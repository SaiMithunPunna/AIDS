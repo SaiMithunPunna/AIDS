{
  "nbformat": 4,
  "nbformat_minor": 0,
  "metadata": {
    "colab": {
      "provenance": [],
      "authorship_tag": "ABX9TyM/mG09qdvD3sHNTYSrgOUd",
      "include_colab_link": true
    },
    "kernelspec": {
      "name": "python3",
      "display_name": "Python 3"
    },
    "language_info": {
      "name": "python"
    }
  },
  "cells": [
    {
      "cell_type": "markdown",
      "metadata": {
        "id": "view-in-github",
        "colab_type": "text"
      },
      "source": [
        "<a href=\"https://colab.research.google.com/github/SaiMithunPunna/AIDS/blob/main/GridSearch_vs_RandomSearch.ipynb\" target=\"_parent\"><img src=\"https://colab.research.google.com/assets/colab-badge.svg\" alt=\"Open In Colab\"/></a>"
      ]
    },
    {
      "cell_type": "code",
      "execution_count": 2,
      "metadata": {
        "id": "TyunjdUq5-er"
      },
      "outputs": [],
      "source": [
        "import numpy as np\n",
        "import pandas as pd\n",
        "import seaborn as sns\n",
        "import matplotlib.pyplot as plt\n",
        "from sklearn.model_selection import train_test_split , GridSearchCV , RandomizedSearchCV\n",
        "from sklearn.ensemble import RandomForestClassifier\n",
        "from sklearn.metrics import accuracy_score , classification_report , confusion_matrix\n",
        "from sklearn.datasets import load_iris"
      ]
    },
    {
      "cell_type": "markdown",
      "source": [
        "# **Load dataset**"
      ],
      "metadata": {
        "id": "DjqLK1_68Uij"
      }
    },
    {
      "cell_type": "code",
      "source": [
        "df=load_iris()\n",
        "x=df.data\n",
        "y=df.target"
      ],
      "metadata": {
        "id": "s_h-SBpA8Y_S"
      },
      "execution_count": 3,
      "outputs": []
    },
    {
      "cell_type": "markdown",
      "source": [
        "# **Define hyper parameter grid**"
      ],
      "metadata": {
        "id": "Fca4YPwC8nZO"
      }
    },
    {
      "cell_type": "code",
      "source": [
        "param_grid= {\n",
        "    'n_estimators':[10 , 50 , 100 , 200] ,\n",
        "    'max_depth':[5,10,20,None],\n",
        "    'min_samples_split':[2,5,10],\n",
        "    'min_samples_leaf':[1,2,4]\n",
        "}\n",
        "\n",
        "\n",
        "#split into 80-20 for trainign and testing\n",
        "\n",
        "X_train , X_test , y_train , y_test = train_test_split(x , y, test_size=0.2 , random_state=42)"
      ],
      "metadata": {
        "id": "KyfKuTcT8q03"
      },
      "execution_count": 6,
      "outputs": []
    },
    {
      "cell_type": "markdown",
      "source": [
        "# **Apply Grid Search CV**"
      ],
      "metadata": {
        "id": "Sb7cc8Dt9-2H"
      }
    },
    {
      "cell_type": "code",
      "source": [
        "grid_search=GridSearchCV(RandomForestClassifier() , param_grid , cv=5 , n_jobs=-1 , verbose=1)\n",
        "grid_search.fit(X_train,  y_train)\n",
        "\n",
        "#get best params\n",
        "print('Best Params from Grid Search  : ' , grid_search.best_params_)\n",
        "\n"
      ],
      "metadata": {
        "colab": {
          "base_uri": "https://localhost:8080/"
        },
        "id": "pk1vKRl6-EH-",
        "outputId": "4b971fa5-05ea-45fc-b1e1-18418a05e0b2"
      },
      "execution_count": 9,
      "outputs": [
        {
          "output_type": "stream",
          "name": "stdout",
          "text": [
            "Fitting 5 folds for each of 144 candidates, totalling 720 fits\n",
            "Best Params from Grid Search  :  {'max_depth': 5, 'min_samples_leaf': 2, 'min_samples_split': 2, 'n_estimators': 50}\n"
          ]
        }
      ]
    },
    {
      "cell_type": "markdown",
      "source": [
        "# **Apply Randomized Search CV**"
      ],
      "metadata": {
        "id": "_UWHIz3l-uoQ"
      }
    },
    {
      "cell_type": "code",
      "source": [
        "random_search=RandomizedSearchCV(RandomForestClassifier() , param_grid , n_iter=10  , cv=5 , n_jobs=-1 , verbose=1 , random_state=42)\n",
        "random_search.fit(X_train , y_train)\n",
        "\n",
        "#get best params\n",
        "\n",
        "print('Best Params from Random Search : ' , random_search.best_params_)"
      ],
      "metadata": {
        "colab": {
          "base_uri": "https://localhost:8080/"
        },
        "id": "5tryVZrW-4Jc",
        "outputId": "b1ef8b9a-0ca0-4c73-e143-d4e75aafcc54"
      },
      "execution_count": 11,
      "outputs": [
        {
          "output_type": "stream",
          "name": "stdout",
          "text": [
            "Fitting 5 folds for each of 10 candidates, totalling 50 fits\n",
            "Best Params from Random Search :  {'n_estimators': 50, 'min_samples_split': 5, 'min_samples_leaf': 4, 'max_depth': 10}\n"
          ]
        }
      ]
    },
    {
      "cell_type": "markdown",
      "source": [
        "# **Evaluate Model Performance**"
      ],
      "metadata": {
        "id": "tbNJAi9E_kBX"
      }
    },
    {
      "cell_type": "code",
      "source": [
        "#train model with best params\n",
        "best_grid_model=grid_search.best_estimator_\n",
        "best_random_model=random_search.best_estimator_\n",
        "\n",
        "#Predictions\n",
        "y_pred_grid=best_grid_model.predict(X_test)\n",
        "y_pred_random=best_random_model.predict(X_test)\n",
        "\n",
        "\n",
        "#Accuracy scores\n",
        "acc_grid=accuracy_score(y_test , y_pred_grid)\n",
        "acc_random=accuracy_score(y_test , y_pred_random)\n",
        "\n",
        "print('Accuracy with Grid Search : ' , acc_grid)\n",
        "print('Accuracy with Random Search : ' , acc_random)"
      ],
      "metadata": {
        "colab": {
          "base_uri": "https://localhost:8080/"
        },
        "id": "ZLpbbx0w_mpv",
        "outputId": "e1285053-3c13-4d29-e1ee-1b4fc4a92fd2"
      },
      "execution_count": 13,
      "outputs": [
        {
          "output_type": "stream",
          "name": "stdout",
          "text": [
            "Accuracy with Grid Search :  1.0\n",
            "Accuracy with Random Search :  1.0\n"
          ]
        }
      ]
    }
  ]
}