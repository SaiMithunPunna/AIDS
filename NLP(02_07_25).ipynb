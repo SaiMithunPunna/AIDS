{
  "nbformat": 4,
  "nbformat_minor": 0,
  "metadata": {
    "colab": {
      "provenance": [],
      "authorship_tag": "ABX9TyNZYd/1okDsGJklSIXCpTVY",
      "include_colab_link": true
    },
    "kernelspec": {
      "name": "python3",
      "display_name": "Python 3"
    },
    "language_info": {
      "name": "python"
    }
  },
  "cells": [
    {
      "cell_type": "markdown",
      "metadata": {
        "id": "view-in-github",
        "colab_type": "text"
      },
      "source": [
        "<a href=\"https://colab.research.google.com/github/SaiMithunPunna/AIDS/blob/main/NLP(02_07_25).ipynb\" target=\"_parent\"><img src=\"https://colab.research.google.com/assets/colab-badge.svg\" alt=\"Open In Colab\"/></a>"
      ]
    },
    {
      "cell_type": "code",
      "execution_count": null,
      "metadata": {
        "colab": {
          "base_uri": "https://localhost:8080/"
        },
        "id": "l6GYdkTDWYpj",
        "outputId": "7cb2c4aa-fbd6-4dbd-b46e-05c3efdb007a"
      },
      "outputs": [
        {
          "output_type": "stream",
          "name": "stdout",
          "text": [
            "Requirement already satisfied: nltk in /usr/local/lib/python3.11/dist-packages (3.9.1)\n",
            "Requirement already satisfied: click in /usr/local/lib/python3.11/dist-packages (from nltk) (8.2.1)\n",
            "Requirement already satisfied: joblib in /usr/local/lib/python3.11/dist-packages (from nltk) (1.5.1)\n",
            "Requirement already satisfied: regex>=2021.8.3 in /usr/local/lib/python3.11/dist-packages (from nltk) (2024.11.6)\n",
            "Requirement already satisfied: tqdm in /usr/local/lib/python3.11/dist-packages (from nltk) (4.67.1)\n"
          ]
        }
      ],
      "source": [
        "!pip install nltk"
      ]
    },
    {
      "cell_type": "code",
      "source": [
        "import nltk\n",
        "nltk.download('punkt_tab')\n",
        "from nltk.tokenize import word_tokenize , sent_tokenize , TweetTokenizer"
      ],
      "metadata": {
        "colab": {
          "base_uri": "https://localhost:8080/"
        },
        "id": "7nMchdyPWgDe",
        "outputId": "292d4269-c1f4-48b1-debb-80270699996e"
      },
      "execution_count": null,
      "outputs": [
        {
          "output_type": "stream",
          "name": "stderr",
          "text": [
            "[nltk_data] Downloading package punkt_tab to /root/nltk_data...\n",
            "[nltk_data]   Unzipping tokenizers/punkt_tab.zip.\n"
          ]
        }
      ]
    },
    {
      "cell_type": "code",
      "source": [
        "para=\"Machine learning (ML) is a branch of artificial intelligence (AI) focused on enabling computers to learn from data and improve their performance on specific tasks without explicit programming. It involves developing algorithms that can analyze patterns in data, build predictive models, and make decisions or predictions based on those models.\""
      ],
      "metadata": {
        "id": "LSYdrOvQWvgl"
      },
      "execution_count": null,
      "outputs": []
    },
    {
      "cell_type": "code",
      "source": [
        "para"
      ],
      "metadata": {
        "colab": {
          "base_uri": "https://localhost:8080/",
          "height": 53
        },
        "id": "CtmtWf8bW6gK",
        "outputId": "0dc78175-8097-45b9-fa99-5175b05e699a"
      },
      "execution_count": null,
      "outputs": [
        {
          "output_type": "execute_result",
          "data": {
            "text/plain": [
              "'Machine learning (ML) is a branch of artificial intelligence (AI) focused on enabling computers to learn from data and improve their performance on specific tasks without explicit programming. It involves developing algorithms that can analyze patterns in data, build predictive models, and make decisions or predictions based on those models.'"
            ],
            "application/vnd.google.colaboratory.intrinsic+json": {
              "type": "string"
            }
          },
          "metadata": {},
          "execution_count": 4
        }
      ]
    },
    {
      "cell_type": "code",
      "source": [
        "tokens=word_tokenize(para)\n"
      ],
      "metadata": {
        "id": "gXnLKwmuW8QI"
      },
      "execution_count": null,
      "outputs": []
    },
    {
      "cell_type": "code",
      "source": [
        "print(tokens)"
      ],
      "metadata": {
        "colab": {
          "base_uri": "https://localhost:8080/"
        },
        "id": "YEKMNJsjXBcG",
        "outputId": "f02ad726-2543-4daa-b22c-51eb66adba35"
      },
      "execution_count": null,
      "outputs": [
        {
          "output_type": "stream",
          "name": "stdout",
          "text": [
            "['Machine', 'learning', '(', 'ML', ')', 'is', 'a', 'branch', 'of', 'artificial', 'intelligence', '(', 'AI', ')', 'focused', 'on', 'enabling', 'computers', 'to', 'learn', 'from', 'data', 'and', 'improve', 'their', 'performance', 'on', 'specific', 'tasks', 'without', 'explicit', 'programming', '.', 'It', 'involves', 'developing', 'algorithms', 'that', 'can', 'analyze', 'patterns', 'in', 'data', ',', 'build', 'predictive', 'models', ',', 'and', 'make', 'decisions', 'or', 'predictions', 'based', 'on', 'those', 'models', '.']\n"
          ]
        }
      ]
    },
    {
      "cell_type": "code",
      "source": [
        "len(tokens)"
      ],
      "metadata": {
        "colab": {
          "base_uri": "https://localhost:8080/"
        },
        "id": "ZsfLtJplXCek",
        "outputId": "95a53c30-8f66-4cdc-b7fa-11ccad70bf62"
      },
      "execution_count": null,
      "outputs": [
        {
          "output_type": "execute_result",
          "data": {
            "text/plain": [
              "58"
            ]
          },
          "metadata": {},
          "execution_count": 7
        }
      ]
    },
    {
      "cell_type": "code",
      "source": [
        "sentences=sent_tokenize(para)\n"
      ],
      "metadata": {
        "id": "viEJ7_O6XEhh"
      },
      "execution_count": null,
      "outputs": []
    },
    {
      "cell_type": "code",
      "source": [
        "sentences"
      ],
      "metadata": {
        "colab": {
          "base_uri": "https://localhost:8080/"
        },
        "id": "vhuHYGTLXJMh",
        "outputId": "6098a3e7-e9ef-4437-8083-7ed8ebed39ec"
      },
      "execution_count": null,
      "outputs": [
        {
          "output_type": "execute_result",
          "data": {
            "text/plain": [
              "['Machine learning (ML) is a branch of artificial intelligence (AI) focused on enabling computers to learn from data and improve their performance on specific tasks without explicit programming.',\n",
              " 'It involves developing algorithms that can analyze patterns in data, build predictive models, and make decisions or predictions based on those models.']"
            ]
          },
          "metadata": {},
          "execution_count": 9
        }
      ]
    },
    {
      "cell_type": "code",
      "source": [
        "sentences[1]"
      ],
      "metadata": {
        "colab": {
          "base_uri": "https://localhost:8080/",
          "height": 35
        },
        "id": "NfFnJN1vXKzc",
        "outputId": "af9d8640-448a-417d-ed96-585cde65cf1e"
      },
      "execution_count": null,
      "outputs": [
        {
          "output_type": "execute_result",
          "data": {
            "text/plain": [
              "'It involves developing algorithms that can analyze patterns in data, build predictive models, and make decisions or predictions based on those models.'"
            ],
            "application/vnd.google.colaboratory.intrinsic+json": {
              "type": "string"
            }
          },
          "metadata": {},
          "execution_count": 11
        }
      ]
    },
    {
      "cell_type": "code",
      "source": [
        "tweet_tokeinzer=TweetTokenizer()"
      ],
      "metadata": {
        "id": "Bg-uliHfXsfe"
      },
      "execution_count": null,
      "outputs": []
    },
    {
      "cell_type": "code",
      "source": [
        "twords=tweet_tokeinzer.tokenize(para)"
      ],
      "metadata": {
        "id": "MAg2rFYMYEBG"
      },
      "execution_count": null,
      "outputs": []
    },
    {
      "cell_type": "code",
      "source": [
        "len(twords)"
      ],
      "metadata": {
        "colab": {
          "base_uri": "https://localhost:8080/"
        },
        "id": "5niwvBgiYIbZ",
        "outputId": "2f4ec92c-a8d2-457e-8619-bdddacd7b5b8"
      },
      "execution_count": null,
      "outputs": [
        {
          "output_type": "execute_result",
          "data": {
            "text/plain": [
              "58"
            ]
          },
          "metadata": {},
          "execution_count": 15
        }
      ]
    },
    {
      "cell_type": "code",
      "source": [
        "twords"
      ],
      "metadata": {
        "colab": {
          "base_uri": "https://localhost:8080/"
        },
        "id": "JFvVwVKBYMZE",
        "outputId": "acf5fe4e-c925-4855-d48f-2ede9486ae5f"
      },
      "execution_count": null,
      "outputs": [
        {
          "output_type": "execute_result",
          "data": {
            "text/plain": [
              "['Machine',\n",
              " 'learning',\n",
              " '(',\n",
              " 'ML',\n",
              " ')',\n",
              " 'is',\n",
              " 'a',\n",
              " 'branch',\n",
              " 'of',\n",
              " 'artificial',\n",
              " 'intelligence',\n",
              " '(',\n",
              " 'AI',\n",
              " ')',\n",
              " 'focused',\n",
              " 'on',\n",
              " 'enabling',\n",
              " 'computers',\n",
              " 'to',\n",
              " 'learn',\n",
              " 'from',\n",
              " 'data',\n",
              " 'and',\n",
              " 'improve',\n",
              " 'their',\n",
              " 'performance',\n",
              " 'on',\n",
              " 'specific',\n",
              " 'tasks',\n",
              " 'without',\n",
              " 'explicit',\n",
              " 'programming',\n",
              " '.',\n",
              " 'It',\n",
              " 'involves',\n",
              " 'developing',\n",
              " 'algorithms',\n",
              " 'that',\n",
              " 'can',\n",
              " 'analyze',\n",
              " 'patterns',\n",
              " 'in',\n",
              " 'data',\n",
              " ',',\n",
              " 'build',\n",
              " 'predictive',\n",
              " 'models',\n",
              " ',',\n",
              " 'and',\n",
              " 'make',\n",
              " 'decisions',\n",
              " 'or',\n",
              " 'predictions',\n",
              " 'based',\n",
              " 'on',\n",
              " 'those',\n",
              " 'models',\n",
              " '.']"
            ]
          },
          "metadata": {},
          "execution_count": 16
        }
      ]
    },
    {
      "cell_type": "code",
      "source": [
        "from nltk.stem.porter import PorterStemmer"
      ],
      "metadata": {
        "id": "aXgvMOwFYOBq"
      },
      "execution_count": null,
      "outputs": []
    },
    {
      "cell_type": "code",
      "source": [
        "stemmer=PorterStemmer"
      ],
      "metadata": {
        "id": "eK30wvALYvxX"
      },
      "execution_count": null,
      "outputs": []
    },
    {
      "cell_type": "code",
      "source": [
        "from nltk.stem import WordNetLemmatizer\n",
        "nltk.download('wordnet')"
      ],
      "metadata": {
        "colab": {
          "base_uri": "https://localhost:8080/"
        },
        "id": "KDMcar5uZQdX",
        "outputId": "bd9df1cd-1329-45f1-8fc4-220657538ab5"
      },
      "execution_count": null,
      "outputs": [
        {
          "output_type": "stream",
          "name": "stderr",
          "text": [
            "[nltk_data] Downloading package wordnet to /root/nltk_data...\n"
          ]
        },
        {
          "output_type": "execute_result",
          "data": {
            "text/plain": [
              "True"
            ]
          },
          "metadata": {},
          "execution_count": 19
        }
      ]
    },
    {
      "cell_type": "code",
      "source": [
        "para=para.lower()"
      ],
      "metadata": {
        "id": "oyMofgq5abWt"
      },
      "execution_count": null,
      "outputs": []
    },
    {
      "cell_type": "code",
      "source": [
        "lematizer=WordNetLemmatizer()\n",
        "lematizer.lemmatize(para)"
      ],
      "metadata": {
        "colab": {
          "base_uri": "https://localhost:8080/",
          "height": 53
        },
        "id": "D63UsrnWZnIe",
        "outputId": "93c75dbb-90be-490b-f7d8-227770b82838"
      },
      "execution_count": null,
      "outputs": [
        {
          "output_type": "execute_result",
          "data": {
            "text/plain": [
              "'machine learning (ml) is a branch of artificial intelligence (ai) focused on enabling computers to learn from data and improve their performance on specific tasks without explicit programming. it involves developing algorithms that can analyze patterns in data, build predictive models, and make decisions or predictions based on those models.'"
            ],
            "application/vnd.google.colaboratory.intrinsic+json": {
              "type": "string"
            }
          },
          "metadata": {},
          "execution_count": 22
        }
      ]
    },
    {
      "cell_type": "code",
      "source": [],
      "metadata": {
        "id": "YHwwZvg2ae2q"
      },
      "execution_count": null,
      "outputs": []
    }
  ]
}