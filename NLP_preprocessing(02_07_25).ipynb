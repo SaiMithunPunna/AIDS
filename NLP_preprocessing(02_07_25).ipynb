{
  "nbformat": 4,
  "nbformat_minor": 0,
  "metadata": {
    "colab": {
      "provenance": [],
      "authorship_tag": "ABX9TyO5mN0mP92bmXZwWAMuD8JK",
      "include_colab_link": true
    },
    "kernelspec": {
      "name": "python3",
      "display_name": "Python 3"
    },
    "language_info": {
      "name": "python"
    }
  },
  "cells": [
    {
      "cell_type": "markdown",
      "metadata": {
        "id": "view-in-github",
        "colab_type": "text"
      },
      "source": [
        "<a href=\"https://colab.research.google.com/github/SaiMithunPunna/AIDS/blob/main/NLP_preprocessing(02_07_25).ipynb\" target=\"_parent\"><img src=\"https://colab.research.google.com/assets/colab-badge.svg\" alt=\"Open In Colab\"/></a>"
      ]
    },
    {
      "cell_type": "code",
      "execution_count": null,
      "metadata": {
        "colab": {
          "base_uri": "https://localhost:8080/"
        },
        "id": "ILO2-AmSaoVY",
        "outputId": "44493fb5-0753-4e79-b8e0-ecc80079cb7b"
      },
      "outputs": [
        {
          "output_type": "stream",
          "name": "stderr",
          "text": [
            "[nltk_data] Downloading package punkt_tab to /root/nltk_data...\n",
            "[nltk_data]   Package punkt_tab is already up-to-date!\n",
            "[nltk_data] Downloading package stopwords to /root/nltk_data...\n",
            "[nltk_data]   Package stopwords is already up-to-date!\n"
          ]
        },
        {
          "output_type": "execute_result",
          "data": {
            "text/plain": [
              "True"
            ]
          },
          "metadata": {},
          "execution_count": 1
        }
      ],
      "source": [
        "import nltk\n",
        "nltk.download('punkt_tab')\n",
        "from nltk.tokenize import word_tokenize , sent_tokenize\n",
        "from nltk.stem.porter import PorterStemmer\n",
        "from nltk.stem import WordNetLemmatizer\n",
        "from nltk.corpus import stopwords\n",
        "import re\n",
        "nltk.download('stopwords')\n"
      ]
    },
    {
      "cell_type": "code",
      "source": [
        "para=\"Wikipedia is a free online encyclopedia that anyone can edit, and millions already have. Wikipedia's purpose is to benefit readers by presenting information on all branches of knowledge. Hosted by the Wikimedia Foundation, Wikipedia consists of freely editable content, with articles that usually contain numerous links guiding readers to more information.Written collaboratively by volunteers known as Wikipedians, Wikipedia articles can be edted by anyone with Internet access, except in limited cases in which editing is restricted to prevent disruption or vandalism. Since its creation on January 15, 2001, it has grown into the world's largest reference website, attracting over a billion visitors each month. Wikipedia currently has more than sixty-five million articles in more than 300 languages, including 7,016,703 articles in English, with 108,947 active contributors in the past month. Wikipedia's fundamental principles are summarized in its five pillars. While the Wikipedia community has developed many policies and guidelines, new editors do not need to be familiar with them before they start contributing. Anyone can edit Wikipedia's text, data, references, and images. The quality of content is more important than the expertise of who contributes it. Wikipedia's content must conform with its policies, including being verifiable by published reliable sources. Contributions based on personal opinions, beliefs, or personal experiences, unreviewed research, libellous material, and copyright violations are not allowed, and will not remain. Wikipedia's software makes it easy to reverse errors, and experienced editors watch and patrol bad edits.Wikipedia differs from printed references in important ways. Anyone can instantly improve it, add quality information, remove misinformation, and fix errors and vandalism. Since Wikipedia is continually updated, encyclopedic articles on major news events appear within minutes.\""
      ],
      "metadata": {
        "id": "ERNPD1AUbYzp"
      },
      "execution_count": null,
      "outputs": []
    },
    {
      "cell_type": "code",
      "source": [
        "para"
      ],
      "metadata": {
        "colab": {
          "base_uri": "https://localhost:8080/",
          "height": 122
        },
        "id": "cPeqHpcRb68B",
        "outputId": "5cc4e0fe-bec5-462f-bc39-8d87f70d6a45"
      },
      "execution_count": null,
      "outputs": [
        {
          "output_type": "execute_result",
          "data": {
            "text/plain": [
              "\"Wikipedia is a free online encyclopedia that anyone can edit, and millions already have. Wikipedia's purpose is to benefit readers by presenting information on all branches of knowledge. Hosted by the Wikimedia Foundation, Wikipedia consists of freely editable content, with articles that usually contain numerous links guiding readers to more information.Written collaboratively by volunteers known as Wikipedians, Wikipedia articles can be edted by anyone with Internet access, except in limited cases in which editing is restricted to prevent disruption or vandalism. Since its creation on January 15, 2001, it has grown into the world's largest reference website, attracting over a billion visitors each month. Wikipedia currently has more than sixty-five million articles in more than 300 languages, including 7,016,703 articles in English, with 108,947 active contributors in the past month. Wikipedia's fundamental principles are summarized in its five pillars. While the Wikipedia community has developed many policies and guidelines, new editors do not need to be familiar with them before they start contributing. Anyone can edit Wikipedia's text, data, references, and images. The quality of content is more important than the expertise of who contributes it. Wikipedia's content must conform with its policies, including being verifiable by published reliable sources. Contributions based on personal opinions, beliefs, or personal experiences, unreviewed research, libellous material, and copyright violations are not allowed, and will not remain. Wikipedia's software makes it easy to reverse errors, and experienced editors watch and patrol bad edits.Wikipedia differs from printed references in important ways. Anyone can instantly improve it, add quality information, remove misinformation, and fix errors and vandalism. Since Wikipedia is continually updated, encyclopedic articles on major news events appear within minutes.\""
            ],
            "application/vnd.google.colaboratory.intrinsic+json": {
              "type": "string"
            }
          },
          "metadata": {},
          "execution_count": 3
        }
      ]
    },
    {
      "cell_type": "code",
      "source": [
        "sentences=sent_tokenize(para)\n",
        "print(sentences)"
      ],
      "metadata": {
        "colab": {
          "base_uri": "https://localhost:8080/"
        },
        "id": "ZVF6MSl6bphe",
        "outputId": "e6364237-73a3-44d2-9602-6b10840862e3"
      },
      "execution_count": null,
      "outputs": [
        {
          "output_type": "stream",
          "name": "stdout",
          "text": [
            "['Wikipedia is a free online encyclopedia that anyone can edit, and millions already have.', \"Wikipedia's purpose is to benefit readers by presenting information on all branches of knowledge.\", 'Hosted by the Wikimedia Foundation, Wikipedia consists of freely editable content, with articles that usually contain numerous links guiding readers to more information.Written collaboratively by volunteers known as Wikipedians, Wikipedia articles can be edted by anyone with Internet access, except in limited cases in which editing is restricted to prevent disruption or vandalism.', \"Since its creation on January 15, 2001, it has grown into the world's largest reference website, attracting over a billion visitors each month.\", 'Wikipedia currently has more than sixty-five million articles in more than 300 languages, including 7,016,703 articles in English, with 108,947 active contributors in the past month.', \"Wikipedia's fundamental principles are summarized in its five pillars.\", 'While the Wikipedia community has developed many policies and guidelines, new editors do not need to be familiar with them before they start contributing.', \"Anyone can edit Wikipedia's text, data, references, and images.\", 'The quality of content is more important than the expertise of who contributes it.', \"Wikipedia's content must conform with its policies, including being verifiable by published reliable sources.\", 'Contributions based on personal opinions, beliefs, or personal experiences, unreviewed research, libellous material, and copyright violations are not allowed, and will not remain.', \"Wikipedia's software makes it easy to reverse errors, and experienced editors watch and patrol bad edits.Wikipedia differs from printed references in important ways.\", 'Anyone can instantly improve it, add quality information, remove misinformation, and fix errors and vandalism.', 'Since Wikipedia is continually updated, encyclopedic articles on major news events appear within minutes.']\n"
          ]
        }
      ]
    },
    {
      "cell_type": "code",
      "source": [
        "corpus=[]\n",
        "for  i in range(len(sentences)):\n",
        "  review=re.sub('[^a-zA-Z]',' ' ,sentences[i] )\n",
        "  review=review.lower()\n",
        "  corpus.append(review)"
      ],
      "metadata": {
        "id": "UaZyRdlEb_Uw"
      },
      "execution_count": null,
      "outputs": []
    },
    {
      "cell_type": "code",
      "source": [
        "corpus"
      ],
      "metadata": {
        "colab": {
          "base_uri": "https://localhost:8080/"
        },
        "id": "D_cxZ71Qcl-u",
        "outputId": "c0caa9da-6bda-4b07-8513-1ec9c7ca89a8"
      },
      "execution_count": null,
      "outputs": [
        {
          "output_type": "execute_result",
          "data": {
            "text/plain": [
              "['wikipedia is a free online encyclopedia that anyone can edit  and millions already have ',\n",
              " 'wikipedia s purpose is to benefit readers by presenting information on all branches of knowledge ',\n",
              " 'hosted by the wikimedia foundation  wikipedia consists of freely editable content  with articles that usually contain numerous links guiding readers to more information written collaboratively by volunteers known as wikipedians  wikipedia articles can be edted by anyone with internet access  except in limited cases in which editing is restricted to prevent disruption or vandalism ',\n",
              " 'since its creation on january           it has grown into the world s largest reference website  attracting over a billion visitors each month ',\n",
              " 'wikipedia currently has more than sixty five million articles in more than     languages  including           articles in english  with         active contributors in the past month ',\n",
              " 'wikipedia s fundamental principles are summarized in its five pillars ',\n",
              " 'while the wikipedia community has developed many policies and guidelines  new editors do not need to be familiar with them before they start contributing ',\n",
              " 'anyone can edit wikipedia s text  data  references  and images ',\n",
              " 'the quality of content is more important than the expertise of who contributes it ',\n",
              " 'wikipedia s content must conform with its policies  including being verifiable by published reliable sources ',\n",
              " 'contributions based on personal opinions  beliefs  or personal experiences  unreviewed research  libellous material  and copyright violations are not allowed  and will not remain ',\n",
              " 'wikipedia s software makes it easy to reverse errors  and experienced editors watch and patrol bad edits wikipedia differs from printed references in important ways ',\n",
              " 'anyone can instantly improve it  add quality information  remove misinformation  and fix errors and vandalism ',\n",
              " 'since wikipedia is continually updated  encyclopedic articles on major news events appear within minutes ']"
            ]
          },
          "metadata": {},
          "execution_count": 6
        }
      ]
    },
    {
      "cell_type": "code",
      "source": [],
      "metadata": {
        "id": "af_b0s9Acm_C"
      },
      "execution_count": null,
      "outputs": []
    },
    {
      "cell_type": "code",
      "source": [
        "import nltk\n",
        "from nltk.stem import PorterStemmer , LancasterStemmer , SnowballStemmer"
      ],
      "metadata": {
        "id": "4QxuRjlwc5pc"
      },
      "execution_count": null,
      "outputs": []
    },
    {
      "cell_type": "code",
      "source": [
        "port = PorterStemmer()\n",
        "lanc=LancasterStemmer()\n",
        "snow=SnowballStemmer('english')"
      ],
      "metadata": {
        "id": "DRdA9J6ddDfk"
      },
      "execution_count": null,
      "outputs": []
    },
    {
      "cell_type": "code",
      "source": [
        "snow.stem(para)"
      ],
      "metadata": {
        "colab": {
          "base_uri": "https://localhost:8080/",
          "height": 122
        },
        "id": "L_0ktFlGdM1K",
        "outputId": "e8fa2344-e35e-40a5-8a07-09d13623d01d"
      },
      "execution_count": null,
      "outputs": [
        {
          "output_type": "execute_result",
          "data": {
            "text/plain": [
              "\"wikipedia is a free online encyclopedia that anyone can edit, and millions already have. wikipedia's purpose is to benefit readers by presenting information on all branches of knowledge. hosted by the wikimedia foundation, wikipedia consists of freely editable content, with articles that usually contain numerous links guiding readers to more information.written collaboratively by volunteers known as wikipedians, wikipedia articles can be edted by anyone with internet access, except in limited cases in which editing is restricted to prevent disruption or vandalism. since its creation on january 15, 2001, it has grown into the world's largest reference website, attracting over a billion visitors each month. wikipedia currently has more than sixty-five million articles in more than 300 languages, including 7,016,703 articles in english, with 108,947 active contributors in the past month. wikipedia's fundamental principles are summarized in its five pillars. while the wikipedia community has developed many policies and guidelines, new editors do not need to be familiar with them before they start contributing. anyone can edit wikipedia's text, data, references, and images. the quality of content is more important than the expertise of who contributes it. wikipedia's content must conform with its policies, including being verifiable by published reliable sources. contributions based on personal opinions, beliefs, or personal experiences, unreviewed research, libellous material, and copyright violations are not allowed, and will not remain. wikipedia's software makes it easy to reverse errors, and experienced editors watch and patrol bad edits.wikipedia differs from printed references in important ways. anyone can instantly improve it, add quality information, remove misinformation, and fix errors and vandalism. since wikipedia is continually updated, encyclopedic articles on major news events appear within minutes.\""
            ],
            "application/vnd.google.colaboratory.intrinsic+json": {
              "type": "string"
            }
          },
          "metadata": {},
          "execution_count": 9
        }
      ]
    },
    {
      "cell_type": "code",
      "source": [
        "sentences=sent_tokenize(para)\n",
        "stemmer=PorterStemmer()\n",
        "stopword=stopwords.words('english')\n",
        "lematizer=WordNetLemmatizer()"
      ],
      "metadata": {
        "id": "QnSbMiApdPNN"
      },
      "execution_count": null,
      "outputs": []
    },
    {
      "cell_type": "code",
      "source": [
        "corpus=[]\n",
        "for i in range(len(sentences)):\n",
        "  review=re.sub('[^a-zA-Z]',' ',sentences[i])\n",
        "  review=review.lower()\n",
        "  review=word_tokenize(review)\n",
        "  review=[stemmer.stem(word) for word in review if word not in set(stopwords.words('english'))]\n",
        "  review=' '.join(review)\n",
        "  corpus.append(review)"
      ],
      "metadata": {
        "id": "WtHFAd83fWXH"
      },
      "execution_count": null,
      "outputs": []
    },
    {
      "cell_type": "code",
      "source": [
        "corpus"
      ],
      "metadata": {
        "colab": {
          "base_uri": "https://localhost:8080/"
        },
        "id": "ZJzgQ0lYf0Nu",
        "outputId": "cc5a60a4-f6b1-4f11-df87-ad73897f5db9"
      },
      "execution_count": null,
      "outputs": [
        {
          "output_type": "execute_result",
          "data": {
            "text/plain": [
              "['wikipedia free onlin encyclopedia anyon edit million alreadi',\n",
              " 'wikipedia purpos benefit reader present inform branch knowledg',\n",
              " 'host wikimedia foundat wikipedia consist freeli edit content articl usual contain numer link guid reader inform written collabor volunt known wikipedian wikipedia articl edt anyon internet access except limit case edit restrict prevent disrupt vandal',\n",
              " 'sinc creation januari grown world largest refer websit attract billion visitor month',\n",
              " 'wikipedia current sixti five million articl languag includ articl english activ contributor past month',\n",
              " 'wikipedia fundament principl summar five pillar',\n",
              " 'wikipedia commun develop mani polici guidelin new editor need familiar start contribut',\n",
              " 'anyon edit wikipedia text data refer imag',\n",
              " 'qualiti content import expertis contribut',\n",
              " 'wikipedia content must conform polici includ verifi publish reliabl sourc',\n",
              " 'contribut base person opinion belief person experi unreview research libel materi copyright violat allow remain',\n",
              " 'wikipedia softwar make easi revers error experienc editor watch patrol bad edit wikipedia differ print refer import way',\n",
              " 'anyon instantli improv add qualiti inform remov misinform fix error vandal',\n",
              " 'sinc wikipedia continu updat encycloped articl major news event appear within minut']"
            ]
          },
          "metadata": {},
          "execution_count": 16
        }
      ]
    },
    {
      "cell_type": "code",
      "source": [
        "import string\n",
        "string.punctuation"
      ],
      "metadata": {
        "colab": {
          "base_uri": "https://localhost:8080/",
          "height": 35
        },
        "id": "-oKDxOrIf1wd",
        "outputId": "57693c34-32ea-4611-9463-9ec6d283f868"
      },
      "execution_count": null,
      "outputs": [
        {
          "output_type": "execute_result",
          "data": {
            "text/plain": [
              "'!\"#$%&\\'()*+,-./:;<=>?@[\\\\]^_`{|}~'"
            ],
            "application/vnd.google.colaboratory.intrinsic+json": {
              "type": "string"
            }
          },
          "metadata": {},
          "execution_count": 18
        }
      ]
    },
    {
      "cell_type": "code",
      "source": [
        "corpus=[]\n",
        "for i in range(len(sentences)):\n",
        "  review=re.sub('[^a-zA-Z]',' ',sentences[i])\n",
        "  review=review.lower()\n",
        "  review=review.split()\n",
        "  review=[word for word in review if word not in string.punctuation]\n",
        "  review=[stemmer.stem(word) for word in review if word not in set(stopwords.words('english'))]\n",
        "  review=' '.join(review)\n",
        "  corpus.append(review)"
      ],
      "metadata": {
        "id": "d0damCwuhKLJ"
      },
      "execution_count": null,
      "outputs": []
    },
    {
      "cell_type": "code",
      "source": [
        "corpus"
      ],
      "metadata": {
        "colab": {
          "base_uri": "https://localhost:8080/"
        },
        "id": "mJEAj-NEhZXT",
        "outputId": "651f3d8b-4ad7-4070-f3be-4b705054b341"
      },
      "execution_count": null,
      "outputs": [
        {
          "output_type": "execute_result",
          "data": {
            "text/plain": [
              "['wikipedia free onlin encyclopedia anyon edit million alreadi',\n",
              " 'wikipedia purpos benefit reader present inform branch knowledg',\n",
              " 'host wikimedia foundat wikipedia consist freeli edit content articl usual contain numer link guid reader inform written collabor volunt known wikipedian wikipedia articl edt anyon internet access except limit case edit restrict prevent disrupt vandal',\n",
              " 'sinc creation januari grown world largest refer websit attract billion visitor month',\n",
              " 'wikipedia current sixti five million articl languag includ articl english activ contributor past month',\n",
              " 'wikipedia fundament principl summar five pillar',\n",
              " 'wikipedia commun develop mani polici guidelin new editor need familiar start contribut',\n",
              " 'anyon edit wikipedia text data refer imag',\n",
              " 'qualiti content import expertis contribut',\n",
              " 'wikipedia content must conform polici includ verifi publish reliabl sourc',\n",
              " 'contribut base person opinion belief person experi unreview research libel materi copyright violat allow remain',\n",
              " 'wikipedia softwar make easi revers error experienc editor watch patrol bad edit wikipedia differ print refer import way',\n",
              " 'anyon instantli improv add qualiti inform remov misinform fix error vandal',\n",
              " 'sinc wikipedia continu updat encycloped articl major news event appear within minut']"
            ]
          },
          "metadata": {},
          "execution_count": 21
        }
      ]
    },
    {
      "cell_type": "code",
      "source": [],
      "metadata": {
        "id": "9tVNm0kahaRp"
      },
      "execution_count": null,
      "outputs": []
    }
  ]
}