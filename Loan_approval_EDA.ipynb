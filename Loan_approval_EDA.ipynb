{
  "nbformat": 4,
  "nbformat_minor": 0,
  "metadata": {
    "colab": {
      "provenance": [],
      "mount_file_id": "1fTWd0w5O6bxUOeksWzC4rkv4eS_271rh",
      "authorship_tag": "ABX9TyNMouQxUrwTa1fOLr9t7pt7",
      "include_colab_link": true
    },
    "kernelspec": {
      "name": "python3",
      "display_name": "Python 3"
    },
    "language_info": {
      "name": "python"
    }
  },
  "cells": [
    {
      "cell_type": "markdown",
      "metadata": {
        "id": "view-in-github",
        "colab_type": "text"
      },
      "source": [
        "<a href=\"https://colab.research.google.com/github/SaiMithunPunna/AIDS/blob/main/Loan_approval_EDA.ipynb\" target=\"_parent\"><img src=\"https://colab.research.google.com/assets/colab-badge.svg\" alt=\"Open In Colab\"/></a>"
      ]
    },
    {
      "cell_type": "code",
      "execution_count": null,
      "metadata": {
        "id": "GBtIK3GvvuPp"
      },
      "outputs": [],
      "source": [
        "import pandas as pd\n",
        "import matplotlib.pyplot as plt\n",
        "import seaborn as sns\n",
        "from sklearn.preprocessing import OneHotEncoder\n",
        "from sklearn.model_selection import train_test_split"
      ]
    },
    {
      "cell_type": "code",
      "source": [
        "data=pd.read_csv('/content/drive/MyDrive/Colab Datasets/loan_approved.csv')"
      ],
      "metadata": {
        "id": "WfBmsym8wMDA"
      },
      "execution_count": null,
      "outputs": []
    },
    {
      "cell_type": "code",
      "source": [
        "data.head()\n"
      ],
      "metadata": {
        "id": "iIv4sbLdwSQA"
      },
      "execution_count": null,
      "outputs": []
    },
    {
      "cell_type": "code",
      "source": [
        "data.isnull().sum()"
      ],
      "metadata": {
        "id": "39kiDTHXwS3A"
      },
      "execution_count": null,
      "outputs": []
    },
    {
      "cell_type": "code",
      "source": [
        "sns.countplot(data=data , x='Gender' ,hue='Loan_Status (Approved)')"
      ],
      "metadata": {
        "id": "Lp0XyBNNwUFo"
      },
      "execution_count": null,
      "outputs": []
    },
    {
      "cell_type": "code",
      "source": [
        "data['Gender'].fillna(data['Gender'].mode()[0] , inplace=True)"
      ],
      "metadata": {
        "id": "QOUzHyrIwVlJ"
      },
      "execution_count": null,
      "outputs": []
    },
    {
      "cell_type": "code",
      "source": [
        "sns.countplot(data=data , x='Married' ,hue='Loan_Status (Approved)')"
      ],
      "metadata": {
        "id": "8TyJrXTwwaY5"
      },
      "execution_count": null,
      "outputs": []
    },
    {
      "cell_type": "code",
      "source": [
        "data['Married'].fillna('No' , inplace=True)\n"
      ],
      "metadata": {
        "id": "YtRutpFIwbDo"
      },
      "execution_count": null,
      "outputs": []
    },
    {
      "cell_type": "code",
      "source": [
        "sns.countplot(data=data , x='Dependents' ,hue='Loan_Status (Approved)')"
      ],
      "metadata": {
        "id": "zUcT4nZCwcaJ"
      },
      "execution_count": null,
      "outputs": []
    },
    {
      "cell_type": "code",
      "source": [
        "data['Dependents'].fillna('3+' , inplace=True)"
      ],
      "metadata": {
        "id": "Zn2pES_xwd6Y"
      },
      "execution_count": null,
      "outputs": []
    },
    {
      "cell_type": "code",
      "source": [
        "sns.countplot(data=data , x='Self_Employed' ,hue='Loan_Status (Approved)')"
      ],
      "metadata": {
        "id": "CWU86tmYwfNw"
      },
      "execution_count": null,
      "outputs": []
    },
    {
      "cell_type": "code",
      "source": [
        "data['Self_Employed'].fillna(data['Self_Employed'].mode()[0] , inplace=True)"
      ],
      "metadata": {
        "id": "txdp_FVQwgbg"
      },
      "execution_count": null,
      "outputs": []
    }
  ]
}