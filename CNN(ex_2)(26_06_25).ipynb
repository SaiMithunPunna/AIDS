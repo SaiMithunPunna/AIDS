{
  "nbformat": 4,
  "nbformat_minor": 0,
  "metadata": {
    "colab": {
      "provenance": [],
      "authorship_tag": "ABX9TyOmdEPjUzOrpTlPm/5m/N8r",
      "include_colab_link": true
    },
    "kernelspec": {
      "name": "python3",
      "display_name": "Python 3"
    },
    "language_info": {
      "name": "python"
    }
  },
  "cells": [
    {
      "cell_type": "markdown",
      "metadata": {
        "id": "view-in-github",
        "colab_type": "text"
      },
      "source": [
        "<a href=\"https://colab.research.google.com/github/SaiMithunPunna/AIDS/blob/main/CNN(ex_2)(26_06_25).ipynb\" target=\"_parent\"><img src=\"https://colab.research.google.com/assets/colab-badge.svg\" alt=\"Open In Colab\"/></a>"
      ]
    },
    {
      "cell_type": "code",
      "execution_count": null,
      "metadata": {
        "id": "7MOfAFgyh4vY"
      },
      "outputs": [],
      "source": [
        "cifar10_labels=['airplane' , 'automobile' , 'bird' , 'cat' , 'deer' , 'dog' , 'frog' , 'horse' , 'ship' , 'truck']\n"
      ]
    },
    {
      "cell_type": "code",
      "source": [
        "fig=plt.figure(figsize=(20,0))"
      ],
      "metadata": {
        "id": "4ehl0-cmiR2k"
      },
      "execution_count": null,
      "outputs": []
    }
  ]
}