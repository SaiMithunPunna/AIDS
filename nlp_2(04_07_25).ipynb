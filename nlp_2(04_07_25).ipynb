{
  "nbformat": 4,
  "nbformat_minor": 0,
  "metadata": {
    "colab": {
      "provenance": [],
      "authorship_tag": "ABX9TyMyoeAxZfqIoOuZ0utB8dRJ",
      "include_colab_link": true
    },
    "kernelspec": {
      "name": "python3",
      "display_name": "Python 3"
    },
    "language_info": {
      "name": "python"
    }
  },
  "cells": [
    {
      "cell_type": "markdown",
      "metadata": {
        "id": "view-in-github",
        "colab_type": "text"
      },
      "source": [
        "<a href=\"https://colab.research.google.com/github/SaiMithunPunna/AIDS/blob/main/nlp_2(04_07_25).ipynb\" target=\"_parent\"><img src=\"https://colab.research.google.com/assets/colab-badge.svg\" alt=\"Open In Colab\"/></a>"
      ]
    },
    {
      "cell_type": "code",
      "execution_count": null,
      "metadata": {
        "colab": {
          "base_uri": "https://localhost:8080/"
        },
        "id": "Xm6n7xvBl7sJ",
        "outputId": "9e677256-535c-40d9-e560-71f327c21c77"
      },
      "outputs": [
        {
          "output_type": "stream",
          "name": "stderr",
          "text": [
            "[nltk_data] Downloading package stopwords to /root/nltk_data...\n",
            "[nltk_data]   Unzipping corpora/stopwords.zip.\n",
            "[nltk_data] Downloading package punkt_tab to /root/nltk_data...\n",
            "[nltk_data]   Unzipping tokenizers/punkt_tab.zip.\n",
            "[nltk_data] Downloading package wordnet to /root/nltk_data...\n"
          ]
        }
      ],
      "source": [
        "import nltk\n",
        "from nltk.tokenize import word_tokenize , sent_tokenize , TweetTokenizer , RegexpTokenizer\n",
        "\n",
        "\n",
        "from nltk.stem.porter import PorterStemmer\n",
        "from nltk.stem import WordNetLemmatizer\n",
        "import re\n",
        "\n",
        "from nltk.corpus import stopwords\n",
        "nltk.download('stopwords')\n",
        "nltk.download('punkt_tab')\n",
        "nltk.download('wordnet')\n",
        "\n",
        "from sklearn.feature_extraction.text import CountVectorizer\n",
        "import pandas as pd"
      ]
    },
    {
      "cell_type": "code",
      "source": [
        "para=\"A Hello, World! program is usually a simple computer program that emits (or displays) to the screen (often the console) a message similar to Hello, World!. A small piece of code in most general-purpose programming languages, this program is used to illustrate a language's basic syntax. Such a program is often the first written by a student of a new programming language,[1] but it can also be used as a sanity check to ensure that the computer software intended to compile or run source code is correctly installed, and that its operator understands how to use it.\""
      ],
      "metadata": {
        "id": "K8QBCHEJmrfW"
      },
      "execution_count": null,
      "outputs": []
    },
    {
      "cell_type": "code",
      "source": [
        "print(para)\n"
      ],
      "metadata": {
        "colab": {
          "base_uri": "https://localhost:8080/"
        },
        "id": "aCotw4UjnPP6",
        "outputId": "2a0e8562-c65d-4966-cd55-1767d8958bf4"
      },
      "execution_count": null,
      "outputs": [
        {
          "output_type": "stream",
          "name": "stdout",
          "text": [
            "A Hello, World! program is usually a simple computer program that emits (or displays) to the screen (often the console) a message similar to Hello, World!. A small piece of code in most general-purpose programming languages, this program is used to illustrate a language's basic syntax. Such a program is often the first written by a student of a new programming language,[1] but it can also be used as a sanity check to ensure that the computer software intended to compile or run source code is correctly installed, and that its operator understands how to use it.\n"
          ]
        }
      ]
    },
    {
      "cell_type": "code",
      "source": [
        "sentences=sent_tokenize(para)\n",
        "sentences"
      ],
      "metadata": {
        "colab": {
          "base_uri": "https://localhost:8080/"
        },
        "id": "Tu0lBxsrnQJ7",
        "outputId": "5a622d05-ad62-4d9a-c6af-f1fe45eccb6d"
      },
      "execution_count": null,
      "outputs": [
        {
          "output_type": "execute_result",
          "data": {
            "text/plain": [
              "['A Hello, World!',\n",
              " 'program is usually a simple computer program that emits (or displays) to the screen (often the console) a message similar to Hello, World!.',\n",
              " \"A small piece of code in most general-purpose programming languages, this program is used to illustrate a language's basic syntax.\",\n",
              " 'Such a program is often the first written by a student of a new programming language,[1] but it can also be used as a sanity check to ensure that the computer software intended to compile or run source code is correctly installed, and that its operator understands how to use it.']"
            ]
          },
          "metadata": {},
          "execution_count": 14
        }
      ]
    },
    {
      "cell_type": "code",
      "source": [
        "lemmatizer=WordNetLemmatizer()"
      ],
      "metadata": {
        "id": "SFGgDLb7nVIL"
      },
      "execution_count": null,
      "outputs": []
    },
    {
      "cell_type": "code",
      "source": [
        "corpus=[]\n",
        "for i in range(len(sentences)):\n",
        "  review=re.sub('[^a-zA-Z]',' ',sentences[i])\n",
        "  review=review.lower()\n",
        "  review=review.split()\n",
        "  review=[lemmatizer.lemmatize(word) for word in review if word not in set(stopwords.words('english'))]\n",
        "  review=' '.join(review)\n",
        "  corpus.append(review)"
      ],
      "metadata": {
        "id": "yuvIKJkWnk-j"
      },
      "execution_count": null,
      "outputs": []
    },
    {
      "cell_type": "code",
      "source": [
        "from sklearn.feature_extraction.text import CountVectorizer\n",
        "cv=CountVectorizer(ngram_range=(1,2))\n",
        "\n",
        "x=cv.fit_transform(corpus)\n",
        "\n",
        "cv.get_feature_names_out()"
      ],
      "metadata": {
        "colab": {
          "base_uri": "https://localhost:8080/"
        },
        "id": "KCI8dPiWp6tR",
        "outputId": "8395104d-3c58-425c-9aab-38cbd1392261"
      },
      "execution_count": null,
      "outputs": [
        {
          "output_type": "execute_result",
          "data": {
            "text/plain": [
              "array(['also', 'also used', 'basic', 'basic syntax', 'check',\n",
              "       'check ensure', 'code', 'code correctly', 'code general',\n",
              "       'compile', 'compile run', 'computer', 'computer program',\n",
              "       'computer software', 'console', 'console message', 'correctly',\n",
              "       'correctly installed', 'display', 'display screen', 'emits',\n",
              "       'emits display', 'ensure', 'ensure computer', 'first',\n",
              "       'first written', 'general', 'general purpose', 'hello',\n",
              "       'hello world', 'illustrate', 'illustrate language', 'installed',\n",
              "       'installed operator', 'intended', 'intended compile', 'language',\n",
              "       'language also', 'language basic', 'language program', 'message',\n",
              "       'message similar', 'new', 'new programming', 'often',\n",
              "       'often console', 'often first', 'operator', 'operator understands',\n",
              "       'piece', 'piece code', 'program', 'program emits', 'program often',\n",
              "       'program used', 'program usually', 'programming',\n",
              "       'programming language', 'purpose', 'purpose programming', 'run',\n",
              "       'run source', 'sanity', 'sanity check', 'screen', 'screen often',\n",
              "       'similar', 'similar hello', 'simple', 'simple computer', 'small',\n",
              "       'small piece', 'software', 'software intended', 'source',\n",
              "       'source code', 'student', 'student new', 'syntax', 'understands',\n",
              "       'understands use', 'use', 'used', 'used illustrate', 'used sanity',\n",
              "       'usually', 'usually simple', 'world', 'written', 'written student'],\n",
              "      dtype=object)"
            ]
          },
          "metadata": {},
          "execution_count": 22
        }
      ]
    },
    {
      "cell_type": "code",
      "source": [],
      "metadata": {
        "id": "roKtNEMjp_lD"
      },
      "execution_count": null,
      "outputs": []
    },
    {
      "cell_type": "code",
      "source": [],
      "metadata": {
        "id": "2mldQ6EIqu9F"
      },
      "execution_count": null,
      "outputs": []
    },
    {
      "cell_type": "code",
      "source": [],
      "metadata": {
        "id": "itZJTHbKqu_c"
      },
      "execution_count": null,
      "outputs": []
    },
    {
      "cell_type": "code",
      "source": [],
      "metadata": {
        "id": "wpj7fEAjqvCD"
      },
      "execution_count": null,
      "outputs": []
    },
    {
      "cell_type": "code",
      "source": [
        "from nltk.corpus import stopwords\n",
        "stopword=stopwords.words('english')\n",
        "import string\n",
        "punctuation = string.punctuation\n",
        "def rem_stopwords_punctuation(text):\n",
        "  text=text.lower()\n",
        "  tokens=word_tokenize(text)\n",
        "  cleaned_text=[word for word in text if word not in stopword and word not in punctuation]\n",
        "  cleaned_text=' '.join(cleaned_text)\n",
        "  return cleaned_text"
      ],
      "metadata": {
        "id": "l97qqu8yqvFq"
      },
      "execution_count": null,
      "outputs": []
    },
    {
      "cell_type": "code",
      "source": [
        "new=rem_stopwords_punctuation(para)"
      ],
      "metadata": {
        "id": "9j2qEdnkrzSS"
      },
      "execution_count": null,
      "outputs": []
    },
    {
      "cell_type": "code",
      "source": [
        "def stemmer(text):\n",
        "  for sent in sent_tokenize(text):\n",
        "    for word in word_tokenize(sent):\n",
        "      lemmatizer.lemmatize(word)\n",
        "  return lemmatizer.lemmatize(text)"
      ],
      "metadata": {
        "id": "mj8Cq5TrrLpJ"
      },
      "execution_count": null,
      "outputs": []
    },
    {
      "cell_type": "code",
      "source": [
        "stemmer(new)"
      ],
      "metadata": {
        "colab": {
          "base_uri": "https://localhost:8080/",
          "height": 106
        },
        "id": "acbtGiMTr2zS",
        "outputId": "e90fbf88-7399-49a9-8ad5-3cf26348057e"
      },
      "execution_count": null,
      "outputs": [
        {
          "output_type": "execute_result",
          "data": {
            "text/plain": [
              "'  h e l l   w r l   p r g r     u u l l     p l e   c p u e r   p r g r   h   e   r   p l     h e   c r e e n   f e n   h e   c n l e     e g e   l r     h e l l   w r l     l l   p e c e   f   c e   n     g e n e r l p u r p e   p r g r n g   l n g u g e   h   p r g r     u e     l l u r e     l n g u g e   b c   n x   u c h     p r g r     f e n   h e   f r   w r e n   b     u e n   f     n e w   p r g r n g   l n g u g e 1   b u     c n   l   b e   u e       n   c h e c k     e n u r e   h   h e   c p u e r   f w r e   n e n e     c p l e   r   r u n   u r c e   c e     c r r e c l   n l l e   n   h     p e r r   u n e r n   h w     u e  '"
            ],
            "application/vnd.google.colaboratory.intrinsic+json": {
              "type": "string"
            }
          },
          "metadata": {},
          "execution_count": 26
        }
      ]
    },
    {
      "cell_type": "code",
      "source": [],
      "metadata": {
        "id": "lZZT316mr4_i"
      },
      "execution_count": null,
      "outputs": []
    }
  ]
}